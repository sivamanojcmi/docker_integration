{
 "cells": [
  {
   "cell_type": "code",
   "execution_count": 1,
   "metadata": {},
   "outputs": [],
   "source": [
    "import pandas as pd\n",
    "import matplotlib.pyplot as plt\n",
    "import warnings\n",
    "warnings.filterwarnings(\"ignore\")\n",
    "warnings.filterwarnings(\"ignore\", category=UserWarning, module=\"sklearn.metrics\")\n",
    "\n",
    "\n",
    "from sklearn.feature_extraction.text import TfidfVectorizer\n",
    "from sklearn.naive_bayes import MultinomialNB\n",
    "from sklearn.linear_model import LogisticRegression\n",
    "from sklearn.tree import DecisionTreeClassifier\n",
    "from sklearn.ensemble import RandomForestClassifier\n",
    "from sklearn.svm import SVC\n",
    "from sklearn.model_selection import GridSearchCV\n",
    "from sklearn.metrics import classification_report, confusion_matrix, ConfusionMatrixDisplay, precision_score, recall_score, fbeta_score, make_scorer\n",
    "from sklearn.metrics import precision_recall_curve, auc\n",
    "from scipy.sparse import hstack, csr_matrix,vstack\n"
   ]
  },
  {
   "cell_type": "markdown",
   "metadata": {},
   "source": [
    "### Modelling"
   ]
  },
  {
   "cell_type": "markdown",
   "metadata": {},
   "source": [
    "#### Reading the data frame from csv file"
   ]
  },
  {
   "cell_type": "code",
   "execution_count": 6,
   "metadata": {},
   "outputs": [],
   "source": [
    "train = pd.read_csv(r\"C:\\Users\\win\\Desktop\\Data_Science\\4th_sem\\Applied_ML\\spam_detection\\train.csv\")\n",
    "val = pd.read_csv(r\"C:\\Users\\win\\Desktop\\Data_Science\\4th_sem\\Applied_ML\\spam_detection\\validation.csv\")\n",
    "test = pd.read_csv(r\"C:\\Users\\win\\Desktop\\Data_Science\\4th_sem\\Applied_ML\\spam_detection\\test.csv\")\n",
    "\n",
    "# seperating the Features and target variable\n",
    "X_train, y_train = train.drop(\"spam\", axis = 1), train[\"spam\"]\n",
    "X_val, y_val = val.drop(\"spam\", axis = 1), val[\"spam\"]\n",
    "X_test, y_test = test.drop(\"spam\", axis = 1), test[\"spam\"]"
   ]
  },
  {
   "cell_type": "markdown",
   "metadata": {},
   "source": [
    "#### Vectorization using TF-IDF"
   ]
  },
  {
   "cell_type": "code",
   "execution_count": 7,
   "metadata": {},
   "outputs": [],
   "source": [
    "vectorizer = TfidfVectorizer()\n",
    "X_train = vectorizer.fit_transform(X_train[\"text\"])\n",
    "\n",
    "def df_after_vectorization(X,no_of_words,vectorizer):\n",
    "    X = vectorizer.transform(X['text'])\n",
    "    no_of_words_column = csr_matrix(no_of_words['no_of_words'].values.reshape(-1, 1))\n",
    "    # Horizontally stack the sparse matrices\n",
    "    X_combined = hstack([X, no_of_words_column])\n",
    "    return X_combined\n",
    "\n",
    "    "
   ]
  },
  {
   "cell_type": "code",
   "execution_count": 8,
   "metadata": {},
   "outputs": [
    {
     "data": {
      "text/plain": [
       "['tfidfvectorizer.pkl']"
      ]
     },
     "execution_count": 8,
     "metadata": {},
     "output_type": "execute_result"
    }
   ],
   "source": [
    "import joblib\n",
    "joblib.dump(vectorizer, 'tfidfvectorizer.pkl')"
   ]
  },
  {
   "cell_type": "code",
   "execution_count": 9,
   "metadata": {},
   "outputs": [],
   "source": [
    "X_val = df_after_vectorization(X_val,val,vectorizer)\n",
    "X_test = df_after_vectorization(X_test,test,vectorizer)\n",
    "no_of_words_column = csr_matrix(train['no_of_words'].values.reshape(-1,1))\n",
    "X_train = hstack([X_train,no_of_words_column])\n"
   ]
  },
  {
   "cell_type": "markdown",
   "metadata": {},
   "source": [
    "#### Functions for viewing confusion matrix and evaluating the model"
   ]
  },
  {
   "cell_type": "code",
   "execution_count": 10,
   "metadata": {},
   "outputs": [],
   "source": [
    "def display_confusion_matrix(y_actual, y_pred):\n",
    "    target_labels = [\"Not Spam\", \"Spam\"]\n",
    "    cm = confusion_matrix(y_actual, y_pred)\n",
    "    display_cm = ConfusionMatrixDisplay(confusion_matrix = cm, display_labels = target_labels)\n",
    "    fig, ax = plt.subplots(figsize = (5, 3))\n",
    "    display_cm.plot(ax = ax, cmap = \"Blues\")\n",
    "\n",
    "def evaluate(y_actual, y_pred,beta):\n",
    "    metric = fbeta_score(y_actual, y_pred, beta=beta)\n",
    "    print(\"Classification Report:\\n {}\".format(classification_report(y_actual, y_pred)))\n",
    "    print(\"f beta score: {}\".format(metric))\n",
    "    display_confusion_matrix(y_actual, y_pred)\n",
    "    return metric\n",
    "    "
   ]
  },
  {
   "cell_type": "markdown",
   "metadata": {},
   "source": [
    "#### F beta score is taken as performance metric.\n",
    "#### We should minimize false positives (predicting spam which are not spam). hence importance is given to precision.\n",
    "#### Hence beta is taken as 0.8 (< 1)\n"
   ]
  },
  {
   "cell_type": "code",
   "execution_count": 11,
   "metadata": {},
   "outputs": [],
   "source": [
    "beta = 0.8\n",
    "scorer = make_scorer(fbeta_score, beta=beta)"
   ]
  },
  {
   "cell_type": "code",
   "execution_count": 12,
   "metadata": {},
   "outputs": [],
   "source": [
    "X_train_val = vstack([X_train,X_val])\n",
    "y_train_val = pd.concat([y_train,y_val])"
   ]
  },
  {
   "cell_type": "markdown",
   "metadata": {},
   "source": [
    "#### 2) Logistic Regression"
   ]
  },
  {
   "cell_type": "code",
   "execution_count": 13,
   "metadata": {},
   "outputs": [
    {
     "name": "stdout",
     "output_type": "stream",
     "text": [
      "Best Hyperparameters: {'C': 100, 'penalty': 'l2'}\n"
     ]
    }
   ],
   "source": [
    "\n",
    "# Define the Logistic Regression model\n",
    "lr_model = LogisticRegression(random_state=42)\n",
    "\n",
    "# Define the hyperparameters to search\n",
    "param_grid = {\n",
    "    'C': [0.001, 0.01, 0.1, 1, 10, 100],\n",
    "    'penalty': ['l1', 'l2']\n",
    "}\n",
    "\n",
    "# Create the GridSearchCV object with 5-fold cross-validation\n",
    "grid_search = GridSearchCV(estimator=lr_model, param_grid=param_grid, cv=5, scoring=scorer)\n",
    "\n",
    "# Fit the model to the training data with cross-validation\n",
    "grid_search.fit(X_train_val, y_train_val)\n",
    "\n",
    "# Get the best hyperparameters\n",
    "best_params = grid_search.best_params_\n",
    "print(\"Best Hyperparameters:\", best_params)\n"
   ]
  },
  {
   "cell_type": "code",
   "execution_count": 14,
   "metadata": {},
   "outputs": [
    {
     "name": "stdout",
     "output_type": "stream",
     "text": [
      "Classification Report:\n",
      "               precision    recall  f1-score   support\n",
      "\n",
      "           0       1.00      1.00      1.00       872\n",
      "           1       0.99      0.99      0.99       274\n",
      "\n",
      "    accuracy                           0.99      1146\n",
      "   macro avg       0.99      0.99      0.99      1146\n",
      "weighted avg       0.99      0.99      0.99      1146\n",
      "\n",
      "f beta score: 0.9868549604760637\n"
     ]
    },
    {
     "data": {
      "image/png": "[encoded data removed]",
      "text/plain": [
       "<Figure size 500x300 with 2 Axes>"
      ]
     },
     "metadata": {},
     "output_type": "display_data"
    }
   ],
   "source": [
    "# Retrieve the best model\n",
    "best_model = grid_search.best_estimator_\n",
    "\n",
    "# Make predictions on the test set using the best model\n",
    "y_pred_lr_tuned = best_model.predict(X_test)\n",
    "\n",
    "# Evaluate the model on the test set\n",
    "fbeta_Score_lr_tuned = evaluate(y_test, y_pred_lr_tuned,beta)"
   ]
  },
  {
   "cell_type": "code",
   "execution_count": 15,
   "metadata": {},
   "outputs": [
    {
     "data": {
      "text/plain": [
       "['logistic_reg.pkl']"
      ]
     },
     "execution_count": 15,
     "metadata": {},
     "output_type": "execute_result"
    }
   ],
   "source": [
    "import joblib\n",
    "# Save the model to a file\n",
    "joblib.dump(best_model, 'logistic_reg.pkl')\n"
   ]
  }
 ],
 "metadata": {
  "kernelspec": {
   "display_name": "Python 3",
   "language": "python",
   "name": "python3"
  },
  "language_info": {
   "codemirror_mode": {
    "name": "ipython",
    "version": 3
   },
   "file_extension": ".py",
   "mimetype": "text/x-python",
   "name": "python",
   "nbconvert_exporter": "python",
   "pygments_lexer": "ipython3",
   "version": "3.10.11"
  }
 },
 "nbformat": 4,
 "nbformat_minor": 2
}
